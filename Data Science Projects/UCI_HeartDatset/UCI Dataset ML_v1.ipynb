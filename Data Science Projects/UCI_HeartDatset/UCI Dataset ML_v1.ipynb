{
 "cells": [
  {
   "cell_type": "code",
   "execution_count": 1,
   "metadata": {},
   "outputs": [],
   "source": [
    "import pandas as pd\n",
    "import matplotlib.pyplot as plt\n",
    "import numpy as np\n",
    "import seaborn as sns\n",
    "\n",
    "import warnings\n",
    "warnings.filterwarnings('ignore')\n",
    "\n",
    "%matplotlib inline"
   ]
  },
  {
   "cell_type": "code",
   "execution_count": 2,
   "metadata": {},
   "outputs": [],
   "source": [
    "df = pd.read_csv('E:/Skills training/Datasets/heart.csv')"
   ]
  },
  {
   "cell_type": "code",
   "execution_count": 3,
   "metadata": {},
   "outputs": [
    {
     "data": {
      "text/html": [
       "<div>\n",
       "<style scoped>\n",
       "    .dataframe tbody tr th:only-of-type {\n",
       "        vertical-align: middle;\n",
       "    }\n",
       "\n",
       "    .dataframe tbody tr th {\n",
       "        vertical-align: top;\n",
       "    }\n",
       "\n",
       "    .dataframe thead th {\n",
       "        text-align: right;\n",
       "    }\n",
       "</style>\n",
       "<table border=\"1\" class=\"dataframe\">\n",
       "  <thead>\n",
       "    <tr style=\"text-align: right;\">\n",
       "      <th></th>\n",
       "      <th>age</th>\n",
       "      <th>sex</th>\n",
       "      <th>cp</th>\n",
       "      <th>trestbps</th>\n",
       "      <th>chol</th>\n",
       "      <th>fbs</th>\n",
       "      <th>restecg</th>\n",
       "      <th>thalach</th>\n",
       "      <th>exang</th>\n",
       "      <th>oldpeak</th>\n",
       "      <th>slope</th>\n",
       "      <th>ca</th>\n",
       "      <th>thal</th>\n",
       "      <th>target</th>\n",
       "    </tr>\n",
       "  </thead>\n",
       "  <tbody>\n",
       "    <tr>\n",
       "      <th>0</th>\n",
       "      <td>63</td>\n",
       "      <td>1</td>\n",
       "      <td>3</td>\n",
       "      <td>145</td>\n",
       "      <td>233</td>\n",
       "      <td>1</td>\n",
       "      <td>0</td>\n",
       "      <td>150</td>\n",
       "      <td>0</td>\n",
       "      <td>2.3</td>\n",
       "      <td>0</td>\n",
       "      <td>0</td>\n",
       "      <td>1</td>\n",
       "      <td>1</td>\n",
       "    </tr>\n",
       "    <tr>\n",
       "      <th>1</th>\n",
       "      <td>37</td>\n",
       "      <td>1</td>\n",
       "      <td>2</td>\n",
       "      <td>130</td>\n",
       "      <td>250</td>\n",
       "      <td>0</td>\n",
       "      <td>1</td>\n",
       "      <td>187</td>\n",
       "      <td>0</td>\n",
       "      <td>3.5</td>\n",
       "      <td>0</td>\n",
       "      <td>0</td>\n",
       "      <td>2</td>\n",
       "      <td>1</td>\n",
       "    </tr>\n",
       "    <tr>\n",
       "      <th>2</th>\n",
       "      <td>41</td>\n",
       "      <td>0</td>\n",
       "      <td>1</td>\n",
       "      <td>130</td>\n",
       "      <td>204</td>\n",
       "      <td>0</td>\n",
       "      <td>0</td>\n",
       "      <td>172</td>\n",
       "      <td>0</td>\n",
       "      <td>1.4</td>\n",
       "      <td>2</td>\n",
       "      <td>0</td>\n",
       "      <td>2</td>\n",
       "      <td>1</td>\n",
       "    </tr>\n",
       "    <tr>\n",
       "      <th>3</th>\n",
       "      <td>56</td>\n",
       "      <td>1</td>\n",
       "      <td>1</td>\n",
       "      <td>120</td>\n",
       "      <td>236</td>\n",
       "      <td>0</td>\n",
       "      <td>1</td>\n",
       "      <td>178</td>\n",
       "      <td>0</td>\n",
       "      <td>0.8</td>\n",
       "      <td>2</td>\n",
       "      <td>0</td>\n",
       "      <td>2</td>\n",
       "      <td>1</td>\n",
       "    </tr>\n",
       "    <tr>\n",
       "      <th>4</th>\n",
       "      <td>57</td>\n",
       "      <td>0</td>\n",
       "      <td>0</td>\n",
       "      <td>120</td>\n",
       "      <td>354</td>\n",
       "      <td>0</td>\n",
       "      <td>1</td>\n",
       "      <td>163</td>\n",
       "      <td>1</td>\n",
       "      <td>0.6</td>\n",
       "      <td>2</td>\n",
       "      <td>0</td>\n",
       "      <td>2</td>\n",
       "      <td>1</td>\n",
       "    </tr>\n",
       "    <tr>\n",
       "      <th>5</th>\n",
       "      <td>57</td>\n",
       "      <td>1</td>\n",
       "      <td>0</td>\n",
       "      <td>140</td>\n",
       "      <td>192</td>\n",
       "      <td>0</td>\n",
       "      <td>1</td>\n",
       "      <td>148</td>\n",
       "      <td>0</td>\n",
       "      <td>0.4</td>\n",
       "      <td>1</td>\n",
       "      <td>0</td>\n",
       "      <td>1</td>\n",
       "      <td>1</td>\n",
       "    </tr>\n",
       "    <tr>\n",
       "      <th>6</th>\n",
       "      <td>56</td>\n",
       "      <td>0</td>\n",
       "      <td>1</td>\n",
       "      <td>140</td>\n",
       "      <td>294</td>\n",
       "      <td>0</td>\n",
       "      <td>0</td>\n",
       "      <td>153</td>\n",
       "      <td>0</td>\n",
       "      <td>1.3</td>\n",
       "      <td>1</td>\n",
       "      <td>0</td>\n",
       "      <td>2</td>\n",
       "      <td>1</td>\n",
       "    </tr>\n",
       "    <tr>\n",
       "      <th>7</th>\n",
       "      <td>44</td>\n",
       "      <td>1</td>\n",
       "      <td>1</td>\n",
       "      <td>120</td>\n",
       "      <td>263</td>\n",
       "      <td>0</td>\n",
       "      <td>1</td>\n",
       "      <td>173</td>\n",
       "      <td>0</td>\n",
       "      <td>0.0</td>\n",
       "      <td>2</td>\n",
       "      <td>0</td>\n",
       "      <td>3</td>\n",
       "      <td>1</td>\n",
       "    </tr>\n",
       "    <tr>\n",
       "      <th>8</th>\n",
       "      <td>52</td>\n",
       "      <td>1</td>\n",
       "      <td>2</td>\n",
       "      <td>172</td>\n",
       "      <td>199</td>\n",
       "      <td>1</td>\n",
       "      <td>1</td>\n",
       "      <td>162</td>\n",
       "      <td>0</td>\n",
       "      <td>0.5</td>\n",
       "      <td>2</td>\n",
       "      <td>0</td>\n",
       "      <td>3</td>\n",
       "      <td>1</td>\n",
       "    </tr>\n",
       "    <tr>\n",
       "      <th>9</th>\n",
       "      <td>57</td>\n",
       "      <td>1</td>\n",
       "      <td>2</td>\n",
       "      <td>150</td>\n",
       "      <td>168</td>\n",
       "      <td>0</td>\n",
       "      <td>1</td>\n",
       "      <td>174</td>\n",
       "      <td>0</td>\n",
       "      <td>1.6</td>\n",
       "      <td>2</td>\n",
       "      <td>0</td>\n",
       "      <td>2</td>\n",
       "      <td>1</td>\n",
       "    </tr>\n",
       "  </tbody>\n",
       "</table>\n",
       "</div>"
      ],
      "text/plain": [
       "   age  sex  cp  trestbps  chol  fbs  restecg  thalach  exang  oldpeak  slope  \\\n",
       "0   63    1   3       145   233    1        0      150      0      2.3      0   \n",
       "1   37    1   2       130   250    0        1      187      0      3.5      0   \n",
       "2   41    0   1       130   204    0        0      172      0      1.4      2   \n",
       "3   56    1   1       120   236    0        1      178      0      0.8      2   \n",
       "4   57    0   0       120   354    0        1      163      1      0.6      2   \n",
       "5   57    1   0       140   192    0        1      148      0      0.4      1   \n",
       "6   56    0   1       140   294    0        0      153      0      1.3      1   \n",
       "7   44    1   1       120   263    0        1      173      0      0.0      2   \n",
       "8   52    1   2       172   199    1        1      162      0      0.5      2   \n",
       "9   57    1   2       150   168    0        1      174      0      1.6      2   \n",
       "\n",
       "   ca  thal  target  \n",
       "0   0     1       1  \n",
       "1   0     2       1  \n",
       "2   0     2       1  \n",
       "3   0     2       1  \n",
       "4   0     2       1  \n",
       "5   0     1       1  \n",
       "6   0     2       1  \n",
       "7   0     3       1  \n",
       "8   0     3       1  \n",
       "9   0     2       1  "
      ]
     },
     "execution_count": 3,
     "metadata": {},
     "output_type": "execute_result"
    }
   ],
   "source": [
    "df.head(10)"
   ]
  },
  {
   "cell_type": "code",
   "execution_count": 10,
   "metadata": {},
   "outputs": [
    {
     "data": {
      "text/plain": [
       "age         False\n",
       "sex         False\n",
       "cp          False\n",
       "trestbps    False\n",
       "chol        False\n",
       "fbs         False\n",
       "restecg     False\n",
       "thalach     False\n",
       "exang       False\n",
       "oldpeak     False\n",
       "slope       False\n",
       "ca          False\n",
       "thal        False\n",
       "target      False\n",
       "dtype: bool"
      ]
     },
     "execution_count": 10,
     "metadata": {},
     "output_type": "execute_result"
    }
   ],
   "source": [
    "#Checking for Nulls\n",
    "df.isnull().any()"
   ]
  },
  {
   "cell_type": "code",
   "execution_count": 4,
   "metadata": {},
   "outputs": [],
   "source": [
    "#Seperate the Dependent and Independent variables\n",
    "\n",
    "X = df.iloc[:,0:len(df.columns)-1]\n",
    "y = df.iloc[:,-1]"
   ]
  },
  {
   "cell_type": "code",
   "execution_count": 6,
   "metadata": {},
   "outputs": [
    {
     "data": {
      "text/html": [
       "<div>\n",
       "<style scoped>\n",
       "    .dataframe tbody tr th:only-of-type {\n",
       "        vertical-align: middle;\n",
       "    }\n",
       "\n",
       "    .dataframe tbody tr th {\n",
       "        vertical-align: top;\n",
       "    }\n",
       "\n",
       "    .dataframe thead th {\n",
       "        text-align: right;\n",
       "    }\n",
       "</style>\n",
       "<table border=\"1\" class=\"dataframe\">\n",
       "  <thead>\n",
       "    <tr style=\"text-align: right;\">\n",
       "      <th></th>\n",
       "      <th>age</th>\n",
       "      <th>sex</th>\n",
       "      <th>cp</th>\n",
       "      <th>trestbps</th>\n",
       "      <th>chol</th>\n",
       "      <th>fbs</th>\n",
       "      <th>restecg</th>\n",
       "      <th>thalach</th>\n",
       "      <th>exang</th>\n",
       "      <th>oldpeak</th>\n",
       "      <th>slope</th>\n",
       "      <th>ca</th>\n",
       "      <th>thal</th>\n",
       "    </tr>\n",
       "  </thead>\n",
       "  <tbody>\n",
       "    <tr>\n",
       "      <th>0</th>\n",
       "      <td>63</td>\n",
       "      <td>1</td>\n",
       "      <td>3</td>\n",
       "      <td>145</td>\n",
       "      <td>233</td>\n",
       "      <td>1</td>\n",
       "      <td>0</td>\n",
       "      <td>150</td>\n",
       "      <td>0</td>\n",
       "      <td>2.3</td>\n",
       "      <td>0</td>\n",
       "      <td>0</td>\n",
       "      <td>1</td>\n",
       "    </tr>\n",
       "    <tr>\n",
       "      <th>1</th>\n",
       "      <td>37</td>\n",
       "      <td>1</td>\n",
       "      <td>2</td>\n",
       "      <td>130</td>\n",
       "      <td>250</td>\n",
       "      <td>0</td>\n",
       "      <td>1</td>\n",
       "      <td>187</td>\n",
       "      <td>0</td>\n",
       "      <td>3.5</td>\n",
       "      <td>0</td>\n",
       "      <td>0</td>\n",
       "      <td>2</td>\n",
       "    </tr>\n",
       "    <tr>\n",
       "      <th>2</th>\n",
       "      <td>41</td>\n",
       "      <td>0</td>\n",
       "      <td>1</td>\n",
       "      <td>130</td>\n",
       "      <td>204</td>\n",
       "      <td>0</td>\n",
       "      <td>0</td>\n",
       "      <td>172</td>\n",
       "      <td>0</td>\n",
       "      <td>1.4</td>\n",
       "      <td>2</td>\n",
       "      <td>0</td>\n",
       "      <td>2</td>\n",
       "    </tr>\n",
       "    <tr>\n",
       "      <th>3</th>\n",
       "      <td>56</td>\n",
       "      <td>1</td>\n",
       "      <td>1</td>\n",
       "      <td>120</td>\n",
       "      <td>236</td>\n",
       "      <td>0</td>\n",
       "      <td>1</td>\n",
       "      <td>178</td>\n",
       "      <td>0</td>\n",
       "      <td>0.8</td>\n",
       "      <td>2</td>\n",
       "      <td>0</td>\n",
       "      <td>2</td>\n",
       "    </tr>\n",
       "    <tr>\n",
       "      <th>4</th>\n",
       "      <td>57</td>\n",
       "      <td>0</td>\n",
       "      <td>0</td>\n",
       "      <td>120</td>\n",
       "      <td>354</td>\n",
       "      <td>0</td>\n",
       "      <td>1</td>\n",
       "      <td>163</td>\n",
       "      <td>1</td>\n",
       "      <td>0.6</td>\n",
       "      <td>2</td>\n",
       "      <td>0</td>\n",
       "      <td>2</td>\n",
       "    </tr>\n",
       "  </tbody>\n",
       "</table>\n",
       "</div>"
      ],
      "text/plain": [
       "   age  sex  cp  trestbps  chol  fbs  restecg  thalach  exang  oldpeak  slope  \\\n",
       "0   63    1   3       145   233    1        0      150      0      2.3      0   \n",
       "1   37    1   2       130   250    0        1      187      0      3.5      0   \n",
       "2   41    0   1       130   204    0        0      172      0      1.4      2   \n",
       "3   56    1   1       120   236    0        1      178      0      0.8      2   \n",
       "4   57    0   0       120   354    0        1      163      1      0.6      2   \n",
       "\n",
       "   ca  thal  \n",
       "0   0     1  \n",
       "1   0     2  \n",
       "2   0     2  \n",
       "3   0     2  \n",
       "4   0     2  "
      ]
     },
     "execution_count": 6,
     "metadata": {},
     "output_type": "execute_result"
    }
   ],
   "source": [
    "X.head()"
   ]
  },
  {
   "cell_type": "code",
   "execution_count": 39,
   "metadata": {},
   "outputs": [],
   "source": [
    "#Categorical variables to encode\n",
    "#Categorical variables are 'sex','cp','fbs','restecg','exang','slope','ca','thal'"
   ]
  },
  {
   "cell_type": "code",
   "execution_count": null,
   "metadata": {},
   "outputs": [],
   "source": []
  },
  {
   "cell_type": "code",
   "execution_count": 99,
   "metadata": {},
   "outputs": [],
   "source": [
    "#ONE HOT ENCODER Method (Later)\n",
    "#All the Categorical Variables are already Numeric (i.e 0,1,2) and not say Country name; \n",
    "#But still would encode to get dummies in order to remove heirarchy\n",
    "'''\n",
    "categ_var = ['sex','cp','fbs','restecg','exang','slope','ca','thal']\n",
    "X1 = X.copy()\n",
    "from sklearn.preprocessing import OneHotEncoder\n",
    "onehot_obj = OneHotEncoder()\n",
    "enc_var = onehot_obj.fit_transform(X1[:][categ_var])\n",
    "enc_var\n",
    "enc_var.toarray()\n",
    "ohe_1 = OneHotEncoder(categorical_features=['categ_var'])\n",
    "....\n",
    "....... ??\n",
    "'''"
   ]
  },
  {
   "cell_type": "code",
   "execution_count": 53,
   "metadata": {},
   "outputs": [],
   "source": []
  },
  {
   "cell_type": "code",
   "execution_count": 77,
   "metadata": {},
   "outputs": [],
   "source": []
  },
  {
   "cell_type": "code",
   "execution_count": 5,
   "metadata": {},
   "outputs": [],
   "source": [
    "#Encoding using Pandas get dummies\n",
    "X = pd.get_dummies(X,columns=['sex', 'cp', 'fbs', 'restecg', 'exang', 'slope', 'ca', 'thal'])\n",
    "\n",
    "#note no drop_first=True for Classification problems "
   ]
  },
  {
   "cell_type": "code",
   "execution_count": 6,
   "metadata": {},
   "outputs": [
    {
     "data": {
      "text/html": [
       "<div>\n",
       "<style scoped>\n",
       "    .dataframe tbody tr th:only-of-type {\n",
       "        vertical-align: middle;\n",
       "    }\n",
       "\n",
       "    .dataframe tbody tr th {\n",
       "        vertical-align: top;\n",
       "    }\n",
       "\n",
       "    .dataframe thead th {\n",
       "        text-align: right;\n",
       "    }\n",
       "</style>\n",
       "<table border=\"1\" class=\"dataframe\">\n",
       "  <thead>\n",
       "    <tr style=\"text-align: right;\">\n",
       "      <th></th>\n",
       "      <th>age</th>\n",
       "      <th>trestbps</th>\n",
       "      <th>chol</th>\n",
       "      <th>thalach</th>\n",
       "      <th>oldpeak</th>\n",
       "      <th>sex_0</th>\n",
       "      <th>sex_1</th>\n",
       "      <th>cp_0</th>\n",
       "      <th>cp_1</th>\n",
       "      <th>cp_2</th>\n",
       "      <th>...</th>\n",
       "      <th>slope_2</th>\n",
       "      <th>ca_0</th>\n",
       "      <th>ca_1</th>\n",
       "      <th>ca_2</th>\n",
       "      <th>ca_3</th>\n",
       "      <th>ca_4</th>\n",
       "      <th>thal_0</th>\n",
       "      <th>thal_1</th>\n",
       "      <th>thal_2</th>\n",
       "      <th>thal_3</th>\n",
       "    </tr>\n",
       "  </thead>\n",
       "  <tbody>\n",
       "    <tr>\n",
       "      <th>0</th>\n",
       "      <td>63</td>\n",
       "      <td>145</td>\n",
       "      <td>233</td>\n",
       "      <td>150</td>\n",
       "      <td>2.3</td>\n",
       "      <td>0</td>\n",
       "      <td>1</td>\n",
       "      <td>0</td>\n",
       "      <td>0</td>\n",
       "      <td>0</td>\n",
       "      <td>...</td>\n",
       "      <td>0</td>\n",
       "      <td>1</td>\n",
       "      <td>0</td>\n",
       "      <td>0</td>\n",
       "      <td>0</td>\n",
       "      <td>0</td>\n",
       "      <td>0</td>\n",
       "      <td>1</td>\n",
       "      <td>0</td>\n",
       "      <td>0</td>\n",
       "    </tr>\n",
       "    <tr>\n",
       "      <th>1</th>\n",
       "      <td>37</td>\n",
       "      <td>130</td>\n",
       "      <td>250</td>\n",
       "      <td>187</td>\n",
       "      <td>3.5</td>\n",
       "      <td>0</td>\n",
       "      <td>1</td>\n",
       "      <td>0</td>\n",
       "      <td>0</td>\n",
       "      <td>1</td>\n",
       "      <td>...</td>\n",
       "      <td>0</td>\n",
       "      <td>1</td>\n",
       "      <td>0</td>\n",
       "      <td>0</td>\n",
       "      <td>0</td>\n",
       "      <td>0</td>\n",
       "      <td>0</td>\n",
       "      <td>0</td>\n",
       "      <td>1</td>\n",
       "      <td>0</td>\n",
       "    </tr>\n",
       "    <tr>\n",
       "      <th>2</th>\n",
       "      <td>41</td>\n",
       "      <td>130</td>\n",
       "      <td>204</td>\n",
       "      <td>172</td>\n",
       "      <td>1.4</td>\n",
       "      <td>1</td>\n",
       "      <td>0</td>\n",
       "      <td>0</td>\n",
       "      <td>1</td>\n",
       "      <td>0</td>\n",
       "      <td>...</td>\n",
       "      <td>1</td>\n",
       "      <td>1</td>\n",
       "      <td>0</td>\n",
       "      <td>0</td>\n",
       "      <td>0</td>\n",
       "      <td>0</td>\n",
       "      <td>0</td>\n",
       "      <td>0</td>\n",
       "      <td>1</td>\n",
       "      <td>0</td>\n",
       "    </tr>\n",
       "    <tr>\n",
       "      <th>3</th>\n",
       "      <td>56</td>\n",
       "      <td>120</td>\n",
       "      <td>236</td>\n",
       "      <td>178</td>\n",
       "      <td>0.8</td>\n",
       "      <td>0</td>\n",
       "      <td>1</td>\n",
       "      <td>0</td>\n",
       "      <td>1</td>\n",
       "      <td>0</td>\n",
       "      <td>...</td>\n",
       "      <td>1</td>\n",
       "      <td>1</td>\n",
       "      <td>0</td>\n",
       "      <td>0</td>\n",
       "      <td>0</td>\n",
       "      <td>0</td>\n",
       "      <td>0</td>\n",
       "      <td>0</td>\n",
       "      <td>1</td>\n",
       "      <td>0</td>\n",
       "    </tr>\n",
       "    <tr>\n",
       "      <th>4</th>\n",
       "      <td>57</td>\n",
       "      <td>120</td>\n",
       "      <td>354</td>\n",
       "      <td>163</td>\n",
       "      <td>0.6</td>\n",
       "      <td>1</td>\n",
       "      <td>0</td>\n",
       "      <td>1</td>\n",
       "      <td>0</td>\n",
       "      <td>0</td>\n",
       "      <td>...</td>\n",
       "      <td>1</td>\n",
       "      <td>1</td>\n",
       "      <td>0</td>\n",
       "      <td>0</td>\n",
       "      <td>0</td>\n",
       "      <td>0</td>\n",
       "      <td>0</td>\n",
       "      <td>0</td>\n",
       "      <td>1</td>\n",
       "      <td>0</td>\n",
       "    </tr>\n",
       "  </tbody>\n",
       "</table>\n",
       "<p>5 rows × 30 columns</p>\n",
       "</div>"
      ],
      "text/plain": [
       "   age  trestbps  chol  thalach  oldpeak  sex_0  sex_1  cp_0  cp_1  cp_2  ...  \\\n",
       "0   63       145   233      150      2.3      0      1     0     0     0  ...   \n",
       "1   37       130   250      187      3.5      0      1     0     0     1  ...   \n",
       "2   41       130   204      172      1.4      1      0     0     1     0  ...   \n",
       "3   56       120   236      178      0.8      0      1     0     1     0  ...   \n",
       "4   57       120   354      163      0.6      1      0     1     0     0  ...   \n",
       "\n",
       "   slope_2  ca_0  ca_1  ca_2  ca_3  ca_4  thal_0  thal_1  thal_2  thal_3  \n",
       "0        0     1     0     0     0     0       0       1       0       0  \n",
       "1        0     1     0     0     0     0       0       0       1       0  \n",
       "2        1     1     0     0     0     0       0       0       1       0  \n",
       "3        1     1     0     0     0     0       0       0       1       0  \n",
       "4        1     1     0     0     0     0       0       0       1       0  \n",
       "\n",
       "[5 rows x 30 columns]"
      ]
     },
     "execution_count": 6,
     "metadata": {},
     "output_type": "execute_result"
    }
   ],
   "source": [
    "X.head()"
   ]
  },
  {
   "cell_type": "code",
   "execution_count": 7,
   "metadata": {},
   "outputs": [],
   "source": [
    "#Split into training and test dataset\n",
    "from sklearn.model_selection import train_test_split\n",
    "X_train, X_test,y_train,y_test = train_test_split(X,y,test_size=0.2,random_state=100)"
   ]
  },
  {
   "cell_type": "code",
   "execution_count": null,
   "metadata": {},
   "outputs": [],
   "source": []
  },
  {
   "cell_type": "code",
   "execution_count": 9,
   "metadata": {},
   "outputs": [],
   "source": [
    "#Feature Scaling\n",
    "\n",
    "from sklearn.preprocessing import StandardScaler       #import class\n",
    "scalerObj_X = StandardScaler()                                   #Create object of the class\n",
    "scalerObj_X.fit(X_train)                      # FIT to training set using the fit method\n",
    "X_train = scalerObj_X.transform(X_train)             # TRANSFORM the training set\n",
    "X_test = scalerObj_X.transform(X_test)              #TRANSFORM the Test Set\n"
   ]
  },
  {
   "cell_type": "code",
   "execution_count": 10,
   "metadata": {},
   "outputs": [
    {
     "data": {
      "text/plain": [
       "array([[-0.49780259,  1.04423932, -0.08371655, ..., -0.2284161 ,\n",
       "        -1.14226175,  1.2768848 ],\n",
       "       [ 1.64736734,  0.46263767, -0.16590481, ..., -0.2284161 ,\n",
       "         0.87545609, -0.78315601],\n",
       "       [-0.94941732, -1.57296809, -0.88505209, ..., -0.2284161 ,\n",
       "         0.87545609, -0.78315601],\n",
       "       ...,\n",
       "       [ 0.40542685, -1.57296809, -0.14535775, ..., -0.2284161 ,\n",
       "        -1.14226175,  1.2768848 ],\n",
       "       [-1.40103204,  0.22999701,  1.39567213, ...,  4.37797518,\n",
       "        -1.14226175, -0.78315601],\n",
       "       [-0.27199523,  2.32376294, -0.98778742, ..., -0.2284161 ,\n",
       "        -1.14226175,  1.2768848 ]])"
      ]
     },
     "execution_count": 10,
     "metadata": {},
     "output_type": "execute_result"
    }
   ],
   "source": [
    "X_train"
   ]
  },
  {
   "cell_type": "code",
   "execution_count": null,
   "metadata": {},
   "outputs": [],
   "source": []
  },
  {
   "cell_type": "code",
   "execution_count": null,
   "metadata": {},
   "outputs": [],
   "source": []
  },
  {
   "cell_type": "markdown",
   "metadata": {},
   "source": [
    "\n",
    "### <font color = 'teal'> K-NN Algorithm \n",
    "    \n",
    "   - _Change in number of neighbours model parameter to observe change in accuracy._\n",
    "   - _As neighbours increase the model becomes more losely fit, more generalized, avoids overfitting._\n",
    "   - _Below we have used n=2, n=5 and n=8 to observe change in model accuracy._\n",
    "   \n"
   ]
  },
  {
   "cell_type": "markdown",
   "metadata": {},
   "source": [
    "##### Knn Iteration 1 with no of  neighbors = 2"
   ]
  },
  {
   "cell_type": "code",
   "execution_count": 14,
   "metadata": {},
   "outputs": [
    {
     "data": {
      "text/plain": [
       "KNeighborsClassifier(algorithm='auto', leaf_size=30, metric='minkowski',\n",
       "           metric_params=None, n_jobs=None, n_neighbors=2, p=2,\n",
       "           weights='uniform')"
      ]
     },
     "execution_count": 14,
     "metadata": {},
     "output_type": "execute_result"
    }
   ],
   "source": [
    "# Train K-NN Algorithm\n",
    "\n",
    "\n",
    "from sklearn.neighbors import KNeighborsClassifier\n",
    "knn_obj = KNeighborsClassifier(n_neighbors=2)\n",
    "knn_obj.fit(X_train, y_train)\n"
   ]
  },
  {
   "cell_type": "code",
   "execution_count": 14,
   "metadata": {},
   "outputs": [
    {
     "data": {
      "text/plain": [
       "array([0, 1], dtype=int64)"
      ]
     },
     "execution_count": 14,
     "metadata": {},
     "output_type": "execute_result"
    }
   ],
   "source": [
    "knn_obj.classes_        #Classes in the model"
   ]
  },
  {
   "cell_type": "code",
   "execution_count": 52,
   "metadata": {},
   "outputs": [],
   "source": [
    "# EVALUATE THE TRAINED MODEL\n",
    "\n",
    "# Score\n",
    "# Confusion Matrix\n",
    "#f1 Score\n",
    "# Precision, Recall |  PR Curve\n",
    "# Tpr, Fpr | ROC & AUC\n",
    "\n",
    "\n",
    "from sklearn.metrics import confusion_matrix\n",
    "\n",
    "from sklearn.metrics import f1_score\n",
    "from sklearn.metrics import precision_score, recall_score\n",
    "\n",
    "from sklearn.metrics import roc_curve\n",
    "from sklearn.metrics import roc_auc_score\n",
    "\n",
    "from sklearn.metrics import precision_recall_curve"
   ]
  },
  {
   "cell_type": "code",
   "execution_count": 15,
   "metadata": {},
   "outputs": [
    {
     "data": {
      "text/plain": [
       "0.8884297520661157"
      ]
     },
     "execution_count": 15,
     "metadata": {},
     "output_type": "execute_result"
    }
   ],
   "source": [
    "# Score of trained model\n",
    "knn_obj.score(X_train,y_train)"
   ]
  },
  {
   "cell_type": "code",
   "execution_count": 19,
   "metadata": {},
   "outputs": [],
   "source": [
    "y_train_predknn_n2 = knn_obj.predict(X_train)"
   ]
  },
  {
   "cell_type": "code",
   "execution_count": 22,
   "metadata": {},
   "outputs": [
    {
     "data": {
      "text/plain": [
       "array([[105,   0],\n",
       "       [ 27, 110]], dtype=int64)"
      ]
     },
     "execution_count": 22,
     "metadata": {},
     "output_type": "execute_result"
    }
   ],
   "source": [
    "# Training Set Confusion matrix for knn_n=2\n",
    "confusion_matrix(y_train, y_train_predknn_n2)          "
   ]
  },
  {
   "cell_type": "code",
   "execution_count": null,
   "metadata": {},
   "outputs": [],
   "source": []
  },
  {
   "cell_type": "code",
   "execution_count": 34,
   "metadata": {},
   "outputs": [],
   "source": [
    "# EVALUATE MODEL PREDICTIONS ON UNSEEN DATA\n",
    "\n",
    "y_test_predknn_n2 = knn_obj.predict(X_test)"
   ]
  },
  {
   "cell_type": "code",
   "execution_count": 36,
   "metadata": {},
   "outputs": [
    {
     "data": {
      "text/plain": [
       "0.8032786885245902"
      ]
     },
     "execution_count": 36,
     "metadata": {},
     "output_type": "execute_result"
    }
   ],
   "source": [
    "knn_obj.score(X_test,y_test)"
   ]
  },
  {
   "cell_type": "code",
   "execution_count": 37,
   "metadata": {},
   "outputs": [
    {
     "data": {
      "text/plain": [
       "array([[29,  4],\n",
       "       [ 8, 20]], dtype=int64)"
      ]
     },
     "execution_count": 37,
     "metadata": {},
     "output_type": "execute_result"
    }
   ],
   "source": [
    "confusion_matrix(y_test,y_test_predknn_n2)"
   ]
  },
  {
   "cell_type": "code",
   "execution_count": null,
   "metadata": {},
   "outputs": [],
   "source": []
  },
  {
   "cell_type": "markdown",
   "metadata": {},
   "source": [
    "##### <font color = 'Red'> ========================     PR Curve and ROC Curve pending      ==============================="
   ]
  },
  {
   "cell_type": "code",
   "execution_count": 30,
   "metadata": {},
   "outputs": [
    {
     "data": {
      "text/plain": [
       "array([0.79545455, 1.        ])"
      ]
     },
     "execution_count": 30,
     "metadata": {},
     "output_type": "execute_result"
    }
   ],
   "source": [
    "#Precision score for knn with n=2\n",
    "precision_score(y_train, y_train_predknn_n2, average =None)               "
   ]
  },
  {
   "cell_type": "code",
   "execution_count": 31,
   "metadata": {},
   "outputs": [
    {
     "data": {
      "text/plain": [
       "array([1.        , 0.80291971])"
      ]
     },
     "execution_count": 31,
     "metadata": {},
     "output_type": "execute_result"
    }
   ],
   "source": [
    "#Recall for knn with n=2\n",
    "recall_score(y_train, y_train_predknn_n2, average = None) "
   ]
  },
  {
   "cell_type": "code",
   "execution_count": 28,
   "metadata": {},
   "outputs": [
    {
     "data": {
      "text/plain": [
       "0.8906882591093117"
      ]
     },
     "execution_count": 28,
     "metadata": {},
     "output_type": "execute_result"
    }
   ],
   "source": [
    "#F1 score for knn with n=2\n",
    "f1_score(y_train,y_train_predknn_n2)"
   ]
  },
  {
   "cell_type": "code",
   "execution_count": null,
   "metadata": {},
   "outputs": [],
   "source": [
    "# Scores for each instance and thresholds\n",
    "### y_scores = knn_obj.decision_function(X_train)"
   ]
  },
  {
   "cell_type": "code",
   "execution_count": 45,
   "metadata": {},
   "outputs": [],
   "source": [
    "##from sklearn.metrics import precision_recall_curve      #plots Precision vs Recall for different thresholds\n",
    "## from sklearn.metrics import roc_curve               #Plots TPR vs 1-TNR\n"
   ]
  },
  {
   "cell_type": "markdown",
   "metadata": {},
   "source": [
    "##### <font color = 'Red'> ============================================="
   ]
  },
  {
   "cell_type": "code",
   "execution_count": null,
   "metadata": {},
   "outputs": [],
   "source": []
  },
  {
   "cell_type": "markdown",
   "metadata": {},
   "source": [
    "##### Knn Iteration 2 with no of  neighbors = 5"
   ]
  },
  {
   "cell_type": "code",
   "execution_count": 38,
   "metadata": {},
   "outputs": [
    {
     "data": {
      "text/plain": [
       "KNeighborsClassifier(algorithm='auto', leaf_size=30, metric='minkowski',\n",
       "           metric_params=None, n_jobs=None, n_neighbors=5, p=2,\n",
       "           weights='uniform')"
      ]
     },
     "execution_count": 38,
     "metadata": {},
     "output_type": "execute_result"
    }
   ],
   "source": [
    "# Remember as n increases, becomes more losely fit, so may not make the best predictions on the training set, but\n",
    "#performance with test set would improve. So we avoid overfitting.\n",
    "\n",
    "knn_obj_1 = KNeighborsClassifier(n_neighbors=5)\n",
    "knn_obj_1.fit(X_train,y_train)\n"
   ]
  },
  {
   "cell_type": "code",
   "execution_count": 40,
   "metadata": {},
   "outputs": [
    {
     "data": {
      "text/plain": [
       "0.871900826446281"
      ]
     },
     "execution_count": 40,
     "metadata": {},
     "output_type": "execute_result"
    }
   ],
   "source": [
    "# Evaluate the trained model \n",
    "\n",
    "knn_obj_1.score(X_train,y_train)"
   ]
  },
  {
   "cell_type": "code",
   "execution_count": 43,
   "metadata": {},
   "outputs": [],
   "source": [
    "y_train_predknn_n5 = knn_obj_1.predict(X_train)"
   ]
  },
  {
   "cell_type": "code",
   "execution_count": 45,
   "metadata": {},
   "outputs": [
    {
     "data": {
      "text/plain": [
       "array([[ 86,  19],\n",
       "       [ 12, 125]], dtype=int64)"
      ]
     },
     "execution_count": 45,
     "metadata": {},
     "output_type": "execute_result"
    }
   ],
   "source": [
    "confusion_matrix(y_train,y_train_predknn_n5)"
   ]
  },
  {
   "cell_type": "code",
   "execution_count": null,
   "metadata": {},
   "outputs": [],
   "source": []
  },
  {
   "cell_type": "code",
   "execution_count": 46,
   "metadata": {},
   "outputs": [
    {
     "data": {
      "text/plain": [
       "0.9344262295081968"
      ]
     },
     "execution_count": 46,
     "metadata": {},
     "output_type": "execute_result"
    }
   ],
   "source": [
    "#Evaluate Model predictions on unseen data\n",
    "\n",
    "knn_obj_1.score(X_test,y_test)"
   ]
  },
  {
   "cell_type": "code",
   "execution_count": 47,
   "metadata": {},
   "outputs": [],
   "source": [
    "y_test_predknn_n5 = knn_obj_1.predict(X_test)"
   ]
  },
  {
   "cell_type": "code",
   "execution_count": 48,
   "metadata": {},
   "outputs": [
    {
     "data": {
      "text/plain": [
       "array([[29,  4],\n",
       "       [ 0, 28]], dtype=int64)"
      ]
     },
     "execution_count": 48,
     "metadata": {},
     "output_type": "execute_result"
    }
   ],
   "source": [
    "confusion_matrix(y_test,y_test_predknn_n5)"
   ]
  },
  {
   "cell_type": "code",
   "execution_count": null,
   "metadata": {},
   "outputs": [],
   "source": []
  },
  {
   "cell_type": "markdown",
   "metadata": {},
   "source": [
    "##### Knn iter 3: No of Neighbors = 8"
   ]
  },
  {
   "cell_type": "code",
   "execution_count": 49,
   "metadata": {},
   "outputs": [
    {
     "data": {
      "text/plain": [
       "KNeighborsClassifier(algorithm='auto', leaf_size=30, metric='minkowski',\n",
       "           metric_params=None, n_jobs=None, n_neighbors=8, p=2,\n",
       "           weights='uniform')"
      ]
     },
     "execution_count": 49,
     "metadata": {},
     "output_type": "execute_result"
    }
   ],
   "source": [
    "knn_obj2 = KNeighborsClassifier(n_neighbors=8)\n",
    "knn_obj2.fit(X_train,y_train)"
   ]
  },
  {
   "cell_type": "code",
   "execution_count": 50,
   "metadata": {},
   "outputs": [
    {
     "data": {
      "text/plain": [
       "0.8429752066115702"
      ]
     },
     "execution_count": 50,
     "metadata": {},
     "output_type": "execute_result"
    }
   ],
   "source": [
    "#Evaluate the trained model\n",
    "\n",
    "\n",
    "# Score of training set for neighbors = 8\n",
    "knn_obj2.score(X_train,y_train)"
   ]
  },
  {
   "cell_type": "code",
   "execution_count": 52,
   "metadata": {},
   "outputs": [],
   "source": [
    "y_train_predN8 = knn_obj2.predict(X_train)"
   ]
  },
  {
   "cell_type": "code",
   "execution_count": 53,
   "metadata": {},
   "outputs": [
    {
     "data": {
      "text/plain": [
       "array([[ 87,  18],\n",
       "       [ 20, 117]], dtype=int64)"
      ]
     },
     "execution_count": 53,
     "metadata": {},
     "output_type": "execute_result"
    }
   ],
   "source": [
    "confusion_matrix(y_train,y_train_predN8)"
   ]
  },
  {
   "cell_type": "code",
   "execution_count": 54,
   "metadata": {},
   "outputs": [
    {
     "data": {
      "text/plain": [
       "0.9344262295081968"
      ]
     },
     "execution_count": 54,
     "metadata": {},
     "output_type": "execute_result"
    }
   ],
   "source": [
    "# Evaluate Model predictions on unseen data for Neighbours = 8\n",
    "\n",
    "\n",
    "knn_obj2.score(X_test,y_test)"
   ]
  },
  {
   "cell_type": "code",
   "execution_count": 55,
   "metadata": {},
   "outputs": [],
   "source": [
    "y_test_predknn_n8 = knn_obj2.predict(X_test)"
   ]
  },
  {
   "cell_type": "code",
   "execution_count": 56,
   "metadata": {},
   "outputs": [
    {
     "data": {
      "text/plain": [
       "array([[30,  3],\n",
       "       [ 1, 27]], dtype=int64)"
      ]
     },
     "execution_count": 56,
     "metadata": {},
     "output_type": "execute_result"
    }
   ],
   "source": [
    "confusion_matrix(y_test,y_test_predknn_n8)"
   ]
  },
  {
   "cell_type": "code",
   "execution_count": null,
   "metadata": {},
   "outputs": [],
   "source": []
  },
  {
   "cell_type": "markdown",
   "metadata": {},
   "source": [
    "##### KNN FINAL OBSERVATIONS \n",
    " - _when changing neighbors from 2 to 5 we see that accuracy of training set only slightly changes however as expected accuracy_ \n",
    " _of the test set improves (from 74% to 84%), so huge improvement._ <br>\n",
    " - _also we see precision score slightly reduces but recall score improves when number of neighbors increases._\n",
    " - _going from 5 to 8 neighbors brings no improvement in accuracy of test set predictions, but slightly reduces accuracy of test. So n=5 is best knn model based on score._"
   ]
  },
  {
   "cell_type": "code",
   "execution_count": null,
   "metadata": {},
   "outputs": [],
   "source": []
  },
  {
   "cell_type": "code",
   "execution_count": null,
   "metadata": {},
   "outputs": [],
   "source": []
  },
  {
   "cell_type": "markdown",
   "metadata": {},
   "source": [
    "\n",
    "### <font color = 'teal'> DECISION TREE Algorithm \n",
    "    \n",
    " - _In Decision Tree accuracy (overfitting/underfitting) would vary with 'Max no of leaf nodes' & 'Max depth'_\n",
    " - _We start with no limitations on tree depth and then check performance by limiting tree depth_ <br>\n",
    "    _NOTE - Scaling may be avoided for decision trees_"
   ]
  },
  {
   "cell_type": "code",
   "execution_count": 14,
   "metadata": {},
   "outputs": [],
   "source": [
    "from sklearn.tree import DecisionTreeClassifier\n",
    "tree_clfobj1 = DecisionTreeClassifier(random_state=0)     #using default impurity measure (gigi)"
   ]
  },
  {
   "cell_type": "code",
   "execution_count": 15,
   "metadata": {},
   "outputs": [
    {
     "data": {
      "text/plain": [
       "DecisionTreeClassifier(class_weight=None, criterion='gini', max_depth=None,\n",
       "            max_features=None, max_leaf_nodes=None,\n",
       "            min_impurity_decrease=0.0, min_impurity_split=None,\n",
       "            min_samples_leaf=1, min_samples_split=2,\n",
       "            min_weight_fraction_leaf=0.0, presort=False, random_state=None,\n",
       "            splitter='best')"
      ]
     },
     "execution_count": 15,
     "metadata": {},
     "output_type": "execute_result"
    }
   ],
   "source": [
    "tree_clfobj1.fit(X_train,y_train)"
   ]
  },
  {
   "cell_type": "code",
   "execution_count": 16,
   "metadata": {},
   "outputs": [],
   "source": [
    "y_train_predTree1 = tree_clfobj1.predict(X_train)"
   ]
  },
  {
   "cell_type": "code",
   "execution_count": 17,
   "metadata": {},
   "outputs": [],
   "source": [
    "from sklearn.metrics import accuracy_score"
   ]
  },
  {
   "cell_type": "code",
   "execution_count": 20,
   "metadata": {},
   "outputs": [
    {
     "data": {
      "text/plain": [
       "1.0"
      ]
     },
     "execution_count": 20,
     "metadata": {},
     "output_type": "execute_result"
    }
   ],
   "source": [
    "#Training Score\n",
    "accuracy_score(y_train,y_train_predTree1)"
   ]
  },
  {
   "cell_type": "code",
   "execution_count": 21,
   "metadata": {},
   "outputs": [
    {
     "data": {
      "text/plain": [
       "1.0"
      ]
     },
     "execution_count": 21,
     "metadata": {},
     "output_type": "execute_result"
    }
   ],
   "source": [
    "#tree_clfobj1.score(X_train,y_train)"
   ]
  },
  {
   "cell_type": "code",
   "execution_count": 23,
   "metadata": {},
   "outputs": [
    {
     "data": {
      "text/plain": [
       "array([[111,   0],\n",
       "       [  0, 131]], dtype=int64)"
      ]
     },
     "execution_count": 23,
     "metadata": {},
     "output_type": "execute_result"
    }
   ],
   "source": [
    "#training confusion matrix\n",
    "confusion_matrix(y_train,y_train_predTree1)"
   ]
  },
  {
   "cell_type": "markdown",
   "metadata": {},
   "source": [
    "##### The decision tree has fit perfectly to the training set. <br> lets check performance on Test. Could be a case of overfitting"
   ]
  },
  {
   "cell_type": "code",
   "execution_count": 24,
   "metadata": {},
   "outputs": [],
   "source": [
    "y_test_predTree1 = tree_clfobj1.predict(X_test)"
   ]
  },
  {
   "cell_type": "code",
   "execution_count": 25,
   "metadata": {},
   "outputs": [
    {
     "data": {
      "text/plain": [
       "0.7704918032786885"
      ]
     },
     "execution_count": 25,
     "metadata": {},
     "output_type": "execute_result"
    }
   ],
   "source": [
    "accuracy_score(y_test,y_test_predTree1)"
   ]
  },
  {
   "cell_type": "code",
   "execution_count": 31,
   "metadata": {},
   "outputs": [
    {
     "data": {
      "text/plain": [
       "0.7704918032786885"
      ]
     },
     "execution_count": 31,
     "metadata": {},
     "output_type": "execute_result"
    }
   ],
   "source": [
    "tree_clfobj1.score(X_test,y_test)"
   ]
  },
  {
   "cell_type": "code",
   "execution_count": 26,
   "metadata": {},
   "outputs": [],
   "source": [
    "# Seen above. Accuracy score is quite low. For Knn we achieved a top score of 84%"
   ]
  },
  {
   "cell_type": "code",
   "execution_count": 27,
   "metadata": {},
   "outputs": [
    {
     "data": {
      "text/plain": [
       "array([[21,  6],\n",
       "       [ 8, 26]], dtype=int64)"
      ]
     },
     "execution_count": 27,
     "metadata": {},
     "output_type": "execute_result"
    }
   ],
   "source": [
    "confusion_matrix(y_test,y_test_predTree1)"
   ]
  },
  {
   "cell_type": "markdown",
   "metadata": {},
   "source": [
    "##### Reducing Tree depth to reduce overfitting and imporve performance on Test"
   ]
  },
  {
   "cell_type": "code",
   "execution_count": 43,
   "metadata": {},
   "outputs": [
    {
     "data": {
      "text/plain": [
       "DecisionTreeClassifier(class_weight=None, criterion='gini', max_depth=None,\n",
       "            max_features=None, max_leaf_nodes=None,\n",
       "            min_impurity_decrease=0.0, min_impurity_split=None,\n",
       "            min_samples_leaf=1, min_samples_split=2,\n",
       "            min_weight_fraction_leaf=0.0, presort=False, random_state=None,\n",
       "            splitter='best')"
      ]
     },
     "execution_count": 43,
     "metadata": {},
     "output_type": "execute_result"
    }
   ],
   "source": [
    "tree_clfobj1"
   ]
  },
  {
   "cell_type": "code",
   "execution_count": 44,
   "metadata": {},
   "outputs": [
    {
     "data": {
      "text/plain": [
       "10"
      ]
     },
     "execution_count": 44,
     "metadata": {},
     "output_type": "execute_result"
    }
   ],
   "source": [
    "#Check unpruned tree depth\n",
    "tree_clfobj1.tree_.max_depth"
   ]
  },
  {
   "cell_type": "code",
   "execution_count": 45,
   "metadata": {},
   "outputs": [
    {
     "data": {
      "text/plain": [
       "DecisionTreeClassifier(class_weight=None, criterion='gini', max_depth=8,\n",
       "            max_features=None, max_leaf_nodes=None,\n",
       "            min_impurity_decrease=0.0, min_impurity_split=None,\n",
       "            min_samples_leaf=1, min_samples_split=2,\n",
       "            min_weight_fraction_leaf=0.0, presort=False, random_state=0,\n",
       "            splitter='best')"
      ]
     },
     "execution_count": 45,
     "metadata": {},
     "output_type": "execute_result"
    }
   ],
   "source": [
    "tree_clfobj2 = DecisionTreeClassifier(max_depth=8, random_state=0)\n",
    "tree_clfobj2.fit(X_train,y_train)"
   ]
  },
  {
   "cell_type": "code",
   "execution_count": 46,
   "metadata": {},
   "outputs": [
    {
     "data": {
      "text/plain": [
       "0.9917355371900827"
      ]
     },
     "execution_count": 46,
     "metadata": {},
     "output_type": "execute_result"
    }
   ],
   "source": [
    "tree_clfobj2.score(X_train,y_train)\n"
   ]
  },
  {
   "cell_type": "code",
   "execution_count": 47,
   "metadata": {},
   "outputs": [],
   "source": [
    "y_test_predT2 = tree_clfobj2.predict(X_test)"
   ]
  },
  {
   "cell_type": "code",
   "execution_count": 50,
   "metadata": {},
   "outputs": [
    {
     "data": {
      "text/plain": [
       "0.7868852459016393"
      ]
     },
     "execution_count": 50,
     "metadata": {},
     "output_type": "execute_result"
    }
   ],
   "source": [
    "tree_clfobj2.score(X_test,y_test)"
   ]
  },
  {
   "cell_type": "code",
   "execution_count": 51,
   "metadata": {},
   "outputs": [
    {
     "data": {
      "text/plain": [
       "array([[21,  6],\n",
       "       [ 7, 27]], dtype=int64)"
      ]
     },
     "execution_count": 51,
     "metadata": {},
     "output_type": "execute_result"
    }
   ],
   "source": [
    "#Confusion matrix with new tree model\n",
    "confusion_matrix(y_test,y_test_predT2)"
   ]
  },
  {
   "cell_type": "markdown",
   "metadata": {},
   "source": [
    "##### Only slight improvement by reducing tree depth to 8; basically 1 extra correct prediction <br>reducing depth further "
   ]
  },
  {
   "cell_type": "code",
   "execution_count": 52,
   "metadata": {},
   "outputs": [],
   "source": [
    "del tree_clfobj2"
   ]
  },
  {
   "cell_type": "code",
   "execution_count": 53,
   "metadata": {},
   "outputs": [
    {
     "data": {
      "text/plain": [
       "DecisionTreeClassifier(class_weight=None, criterion='gini', max_depth=4,\n",
       "            max_features=None, max_leaf_nodes=None,\n",
       "            min_impurity_decrease=0.0, min_impurity_split=None,\n",
       "            min_samples_leaf=1, min_samples_split=2,\n",
       "            min_weight_fraction_leaf=0.0, presort=False, random_state=0,\n",
       "            splitter='best')"
      ]
     },
     "execution_count": 53,
     "metadata": {},
     "output_type": "execute_result"
    }
   ],
   "source": [
    "tree_clfobj2 = DecisionTreeClassifier(max_depth=4,random_state=0)\n",
    "tree_clfobj2.fit(X_train,y_train)"
   ]
  },
  {
   "cell_type": "code",
   "execution_count": 55,
   "metadata": {},
   "outputs": [
    {
     "data": {
      "text/plain": [
       "0.871900826446281"
      ]
     },
     "execution_count": 55,
     "metadata": {},
     "output_type": "execute_result"
    }
   ],
   "source": [
    "#training set score\n",
    "tree_clfobj2.score(X_train,y_train)         #We see below training accuracy has reduced"
   ]
  },
  {
   "cell_type": "code",
   "execution_count": 57,
   "metadata": {},
   "outputs": [],
   "source": [
    "#Make predictions on test set\n",
    "y_test_predT2 = tree_clfobj2.predict(X_test)"
   ]
  },
  {
   "cell_type": "code",
   "execution_count": 59,
   "metadata": {},
   "outputs": [
    {
     "data": {
      "text/plain": [
       "0.8360655737704918"
      ]
     },
     "execution_count": 59,
     "metadata": {},
     "output_type": "execute_result"
    }
   ],
   "source": [
    "#test set score\n",
    "tree_clfobj2.score(X_test,y_test)"
   ]
  },
  {
   "cell_type": "code",
   "execution_count": null,
   "metadata": {},
   "outputs": [],
   "source": [
    "## Score exactly same as the best score achieved through Knn"
   ]
  },
  {
   "cell_type": "code",
   "execution_count": 58,
   "metadata": {},
   "outputs": [
    {
     "data": {
      "text/plain": [
       "array([[22,  5],\n",
       "       [ 5, 29]], dtype=int64)"
      ]
     },
     "execution_count": 58,
     "metadata": {},
     "output_type": "execute_result"
    }
   ],
   "source": [
    "confusion_matrix(y_test,y_test_predT2)"
   ]
  },
  {
   "cell_type": "code",
   "execution_count": 62,
   "metadata": {},
   "outputs": [],
   "source": [
    "# If needed can compare with confusion matrix of KNN test set to check \n",
    "# if any difference between False Positives and False Neg between the 2 models.\n",
    "# in case 1 is more desirable than the other "
   ]
  },
  {
   "cell_type": "code",
   "execution_count": 63,
   "metadata": {},
   "outputs": [],
   "source": [
    "# Can maybe make a few more changes in Classifier parameters to acheive better results???"
   ]
  },
  {
   "cell_type": "markdown",
   "metadata": {},
   "source": [
    "##### DECISION TREE FINAL OBSERVATIONS\n",
    "- When going with default tree depth (10) we see that overfitting happens. Training set accuracy is 0 but test set accuracy is ver low.\n",
    "- Using Regularization i.e. Setting a Max depth we stop tree from perfectly fitting to training data.\n",
    "- When setting Max depth to 8 we see Test Accuracy has improved to 84% (same as best obtained with knn).\n",
    "- Can compare confusion Matrix of test set of KNN and Decision tree to see which would be preferable (<font color='red'>PENDING)\n",
    "- Can we improve Decision tree some more (<font color='red'>PENDING)"
   ]
  },
  {
   "cell_type": "code",
   "execution_count": null,
   "metadata": {},
   "outputs": [],
   "source": []
  },
  {
   "cell_type": "markdown",
   "metadata": {},
   "source": [
    "\n",
    "###  <font color='teal'> LOGISTIC REGRESSION\n",
    "    \n",
    " - _Logistic regression is a linear classifier so will need to see how well it fits the data._"
   ]
  },
  {
   "cell_type": "code",
   "execution_count": 11,
   "metadata": {},
   "outputs": [],
   "source": [
    "from sklearn.linear_model import LogisticRegression"
   ]
  },
  {
   "cell_type": "code",
   "execution_count": 12,
   "metadata": {},
   "outputs": [],
   "source": [
    "logreg_obj = LogisticRegression()"
   ]
  },
  {
   "cell_type": "code",
   "execution_count": 13,
   "metadata": {},
   "outputs": [
    {
     "data": {
      "text/plain": [
       "LogisticRegression(C=1.0, class_weight=None, dual=False, fit_intercept=True,\n",
       "          intercept_scaling=1, max_iter=100, multi_class='warn',\n",
       "          n_jobs=None, penalty='l2', random_state=None, solver='warn',\n",
       "          tol=0.0001, verbose=0, warm_start=False)"
      ]
     },
     "execution_count": 13,
     "metadata": {},
     "output_type": "execute_result"
    }
   ],
   "source": [
    "logreg_obj.fit(X_train,y_train)"
   ]
  },
  {
   "cell_type": "code",
   "execution_count": 14,
   "metadata": {},
   "outputs": [
    {
     "data": {
      "text/plain": [
       "0.8842975206611571"
      ]
     },
     "execution_count": 14,
     "metadata": {},
     "output_type": "execute_result"
    }
   ],
   "source": [
    "#Evaluate the Trained Model \n",
    "\n",
    "#Score of training set\n",
    "logreg_obj.score(X_train,y_train)"
   ]
  },
  {
   "cell_type": "code",
   "execution_count": 25,
   "metadata": {},
   "outputs": [],
   "source": [
    "y_train_predLog = logreg_obj.predict(X_train)"
   ]
  },
  {
   "cell_type": "code",
   "execution_count": 26,
   "metadata": {},
   "outputs": [
    {
     "data": {
      "text/plain": [
       "array([[ 87,  18],\n",
       "       [ 10, 127]], dtype=int64)"
      ]
     },
     "execution_count": 26,
     "metadata": {},
     "output_type": "execute_result"
    }
   ],
   "source": [
    "confusion_matrix(y_train,y_train_predLog)"
   ]
  },
  {
   "cell_type": "code",
   "execution_count": 64,
   "metadata": {},
   "outputs": [],
   "source": [
    "#We see score of training set is very close to the best model we obtained for knn.\n",
    "#Comparing confusion matrix of training set of knn and logistic we see its almost identical"
   ]
  },
  {
   "cell_type": "code",
   "execution_count": 66,
   "metadata": {},
   "outputs": [
    {
     "data": {
      "text/plain": [
       "0.8524590163934426"
      ]
     },
     "execution_count": 66,
     "metadata": {},
     "output_type": "execute_result"
    }
   ],
   "source": [
    "# Evaluate Model predictions on unseen data\n",
    "\n",
    "logreg_obj.score(X_test,y_test)"
   ]
  },
  {
   "cell_type": "code",
   "execution_count": 67,
   "metadata": {},
   "outputs": [],
   "source": [
    "y_test_predLog = logreg_obj.predict(X_test)"
   ]
  },
  {
   "cell_type": "code",
   "execution_count": null,
   "metadata": {},
   "outputs": [],
   "source": []
  },
  {
   "cell_type": "code",
   "execution_count": 24,
   "metadata": {},
   "outputs": [],
   "source": [
    "# ======================== In Conclusion ===========\n",
    "#Compare all models and model predictions for the 3 algorithms i.e. knn, dec tree and logistic reg to decide on best model\n",
    "#for this dataset"
   ]
  },
  {
   "cell_type": "markdown",
   "metadata": {},
   "source": [
    "\n",
    "##### Logistic Regression MODEL EVALUATION\n",
    "##### Confusion Matrix\n",
    "##### Tpr, Fpr || ROC AUC  \n",
    "##### Precision, Recall || PR Curve"
   ]
  },
  {
   "cell_type": "code",
   "execution_count": 19,
   "metadata": {},
   "outputs": [],
   "source": [
    "lr_probs = logreg_obj.predict_proba(X_train)\n",
    "\n",
    "# Returns the probability of the sample for each class in the model \n",
    "# classes are ordered as they are in ``self.classes_``\n",
    "# essentially yscores that are used in roc curve method"
   ]
  },
  {
   "cell_type": "code",
   "execution_count": 28,
   "metadata": {},
   "outputs": [
    {
     "data": {
      "text/plain": [
       "array([0, 1], dtype=int64)"
      ]
     },
     "execution_count": 28,
     "metadata": {},
     "output_type": "execute_result"
    }
   ],
   "source": [
    "logreg_obj.classes_"
   ]
  },
  {
   "cell_type": "code",
   "execution_count": 22,
   "metadata": {
    "scrolled": true
   },
   "outputs": [
    {
     "data": {
      "text/plain": [
       "array([[0.93668847, 0.06331153],\n",
       "       [0.10833855, 0.89166145],\n",
       "       [0.00644615, 0.99355385],\n",
       "       [0.2006096 , 0.7993904 ],\n",
       "       [0.31041541, 0.68958459],\n",
       "       [0.97525742, 0.02474258],\n",
       "       [0.92510635, 0.07489365],\n",
       "       [0.91262078, 0.08737922],\n",
       "       [0.03715046, 0.96284954],\n",
       "       [0.99558903, 0.00441097],\n",
       "       [0.16001344, 0.83998656],\n",
       "       [0.00495636, 0.99504364],\n",
       "       [0.04881041, 0.95118959],\n",
       "       [0.01162   , 0.98838   ],\n",
       "       [0.99174377, 0.00825623],\n",
       "       [0.22385999, 0.77614001],\n",
       "       [0.01521488, 0.98478512],\n",
       "       [0.16533766, 0.83466234],\n",
       "       [0.78621158, 0.21378842],\n",
       "       [0.26540087, 0.73459913],\n",
       "       [0.24057553, 0.75942447],\n",
       "       [0.99370607, 0.00629393],\n",
       "       [0.00836672, 0.99163328],\n",
       "       [0.79139155, 0.20860845],\n",
       "       [0.03089629, 0.96910371],\n",
       "       [0.70221992, 0.29778008],\n",
       "       [0.98934768, 0.01065232],\n",
       "       [0.05437766, 0.94562234],\n",
       "       [0.04752465, 0.95247535],\n",
       "       [0.94956206, 0.05043794],\n",
       "       [0.05206411, 0.94793589],\n",
       "       [0.02638241, 0.97361759],\n",
       "       [0.03846411, 0.96153589],\n",
       "       [0.39541604, 0.60458396],\n",
       "       [0.8520369 , 0.1479631 ],\n",
       "       [0.10554212, 0.89445788],\n",
       "       [0.03004125, 0.96995875],\n",
       "       [0.39697856, 0.60302144],\n",
       "       [0.48075082, 0.51924918],\n",
       "       [0.00285597, 0.99714403],\n",
       "       [0.99833732, 0.00166268],\n",
       "       [0.98803305, 0.01196695],\n",
       "       [0.78615322, 0.21384678],\n",
       "       [0.96940097, 0.03059903],\n",
       "       [0.02065795, 0.97934205],\n",
       "       [0.74275074, 0.25724926],\n",
       "       [0.12493029, 0.87506971],\n",
       "       [0.01503714, 0.98496286],\n",
       "       [0.14395069, 0.85604931],\n",
       "       [0.29613533, 0.70386467],\n",
       "       [0.90039313, 0.09960687],\n",
       "       [0.55120608, 0.44879392],\n",
       "       [0.49252069, 0.50747931],\n",
       "       [0.24004104, 0.75995896],\n",
       "       [0.00274411, 0.99725589],\n",
       "       [0.89959355, 0.10040645],\n",
       "       [0.06121129, 0.93878871],\n",
       "       [0.41916411, 0.58083589],\n",
       "       [0.99437137, 0.00562863],\n",
       "       [0.68886695, 0.31113305],\n",
       "       [0.03462048, 0.96537952],\n",
       "       [0.96346861, 0.03653139],\n",
       "       [0.65683798, 0.34316202],\n",
       "       [0.00355082, 0.99644918],\n",
       "       [0.91288499, 0.08711501],\n",
       "       [0.00470915, 0.99529085],\n",
       "       [0.87805974, 0.12194026],\n",
       "       [0.14659977, 0.85340023],\n",
       "       [0.97696809, 0.02303191],\n",
       "       [0.4180128 , 0.5819872 ],\n",
       "       [0.12987162, 0.87012838],\n",
       "       [0.41405825, 0.58594175],\n",
       "       [0.96897904, 0.03102096],\n",
       "       [0.76685625, 0.23314375],\n",
       "       [0.00782504, 0.99217496],\n",
       "       [0.99299236, 0.00700764],\n",
       "       [0.01863679, 0.98136321],\n",
       "       [0.33515538, 0.66484462],\n",
       "       [0.2413301 , 0.7586699 ],\n",
       "       [0.12841372, 0.87158628],\n",
       "       [0.9986474 , 0.0013526 ],\n",
       "       [0.9733078 , 0.0266922 ],\n",
       "       [0.03547852, 0.96452148],\n",
       "       [0.89886723, 0.10113277],\n",
       "       [0.98099103, 0.01900897],\n",
       "       [0.01047016, 0.98952984],\n",
       "       [0.08567712, 0.91432288],\n",
       "       [0.03263717, 0.96736283],\n",
       "       [0.30183021, 0.69816979],\n",
       "       [0.780892  , 0.219108  ],\n",
       "       [0.76961828, 0.23038172],\n",
       "       [0.96566599, 0.03433401],\n",
       "       [0.19377945, 0.80622055],\n",
       "       [0.18826351, 0.81173649],\n",
       "       [0.01446559, 0.98553441],\n",
       "       [0.99232091, 0.00767909],\n",
       "       [0.00301488, 0.99698512],\n",
       "       [0.10223288, 0.89776712],\n",
       "       [0.23702056, 0.76297944],\n",
       "       [0.09120562, 0.90879438],\n",
       "       [0.9940209 , 0.0059791 ],\n",
       "       [0.45001127, 0.54998873],\n",
       "       [0.25454748, 0.74545252],\n",
       "       [0.06943907, 0.93056093],\n",
       "       [0.04433111, 0.95566889],\n",
       "       [0.30558552, 0.69441448],\n",
       "       [0.22143531, 0.77856469],\n",
       "       [0.97363193, 0.02636807],\n",
       "       [0.03633529, 0.96366471],\n",
       "       [0.10963569, 0.89036431],\n",
       "       [0.04769584, 0.95230416],\n",
       "       [0.00565487, 0.99434513],\n",
       "       [0.99181147, 0.00818853],\n",
       "       [0.99602076, 0.00397924],\n",
       "       [0.14100759, 0.85899241],\n",
       "       [0.00709061, 0.99290939],\n",
       "       [0.27751345, 0.72248655],\n",
       "       [0.25468277, 0.74531723],\n",
       "       [0.99438932, 0.00561068],\n",
       "       [0.68568269, 0.31431731],\n",
       "       [0.05565477, 0.94434523],\n",
       "       [0.0256206 , 0.9743794 ],\n",
       "       [0.45218444, 0.54781556],\n",
       "       [0.09620203, 0.90379797],\n",
       "       [0.00541186, 0.99458814],\n",
       "       [0.02170326, 0.97829674],\n",
       "       [0.76564245, 0.23435755],\n",
       "       [0.1309606 , 0.8690394 ],\n",
       "       [0.11070462, 0.88929538],\n",
       "       [0.96460107, 0.03539893],\n",
       "       [0.9892877 , 0.0107123 ],\n",
       "       [0.34299625, 0.65700375],\n",
       "       [0.59518146, 0.40481854],\n",
       "       [0.12249383, 0.87750617],\n",
       "       [0.4921652 , 0.5078348 ],\n",
       "       [0.42921643, 0.57078357],\n",
       "       [0.23420369, 0.76579631],\n",
       "       [0.01957107, 0.98042893],\n",
       "       [0.95649559, 0.04350441],\n",
       "       [0.1188922 , 0.8811078 ],\n",
       "       [0.00750375, 0.99249625],\n",
       "       [0.56538087, 0.43461913],\n",
       "       [0.98086021, 0.01913979],\n",
       "       [0.14018377, 0.85981623],\n",
       "       [0.0453118 , 0.9546882 ],\n",
       "       [0.15105065, 0.84894935],\n",
       "       [0.03302866, 0.96697134],\n",
       "       [0.53385774, 0.46614226],\n",
       "       [0.01592657, 0.98407343],\n",
       "       [0.053089  , 0.946911  ],\n",
       "       [0.00495636, 0.99504364],\n",
       "       [0.95770286, 0.04229714],\n",
       "       [0.00619266, 0.99380734],\n",
       "       [0.75165545, 0.24834455],\n",
       "       [0.30885011, 0.69114989],\n",
       "       [0.6678239 , 0.3321761 ],\n",
       "       [0.00510261, 0.99489739],\n",
       "       [0.91528466, 0.08471534],\n",
       "       [0.99743225, 0.00256775],\n",
       "       [0.30226762, 0.69773238],\n",
       "       [0.01661958, 0.98338042],\n",
       "       [0.09952662, 0.90047338],\n",
       "       [0.98589725, 0.01410275],\n",
       "       [0.42926374, 0.57073626],\n",
       "       [0.14011585, 0.85988415],\n",
       "       [0.22763253, 0.77236747],\n",
       "       [0.08035482, 0.91964518],\n",
       "       [0.71914967, 0.28085033],\n",
       "       [0.19585912, 0.80414088],\n",
       "       [0.65928706, 0.34071294],\n",
       "       [0.96738333, 0.03261667],\n",
       "       [0.02747044, 0.97252956],\n",
       "       [0.94934865, 0.05065135],\n",
       "       [0.00756044, 0.99243956],\n",
       "       [0.44045203, 0.55954797],\n",
       "       [0.28414507, 0.71585493],\n",
       "       [0.00594401, 0.99405599],\n",
       "       [0.15855506, 0.84144494],\n",
       "       [0.99619801, 0.00380199],\n",
       "       [0.95911114, 0.04088886],\n",
       "       [0.60086554, 0.39913446],\n",
       "       [0.83945152, 0.16054848],\n",
       "       [0.78657754, 0.21342246],\n",
       "       [0.74232343, 0.25767657],\n",
       "       [0.9309384 , 0.0690616 ],\n",
       "       [0.51221534, 0.48778466],\n",
       "       [0.96853808, 0.03146192],\n",
       "       [0.81674408, 0.18325592],\n",
       "       [0.96869293, 0.03130707],\n",
       "       [0.28003346, 0.71996654],\n",
       "       [0.06761779, 0.93238221],\n",
       "       [0.99818838, 0.00181162],\n",
       "       [0.95238751, 0.04761249],\n",
       "       [0.7158274 , 0.2841726 ],\n",
       "       [0.80355718, 0.19644282],\n",
       "       [0.10773321, 0.89226679],\n",
       "       [0.98905163, 0.01094837],\n",
       "       [0.0514992 , 0.9485008 ],\n",
       "       [0.4476627 , 0.5523373 ],\n",
       "       [0.03973611, 0.96026389],\n",
       "       [0.06806076, 0.93193924],\n",
       "       [0.5434477 , 0.4565523 ],\n",
       "       [0.12294636, 0.87705364],\n",
       "       [0.0518334 , 0.9481666 ],\n",
       "       [0.83942875, 0.16057125],\n",
       "       [0.97268806, 0.02731194],\n",
       "       [0.36881778, 0.63118222],\n",
       "       [0.86285957, 0.13714043],\n",
       "       [0.66041343, 0.33958657],\n",
       "       [0.8967667 , 0.1032333 ],\n",
       "       [0.25369879, 0.74630121],\n",
       "       [0.01806405, 0.98193595],\n",
       "       [0.0195772 , 0.9804228 ],\n",
       "       [0.76202841, 0.23797159],\n",
       "       [0.79792962, 0.20207038],\n",
       "       [0.55320283, 0.44679717],\n",
       "       [0.99785209, 0.00214791],\n",
       "       [0.02967993, 0.97032007],\n",
       "       [0.03651209, 0.96348791],\n",
       "       [0.40039359, 0.59960641],\n",
       "       [0.11983266, 0.88016734],\n",
       "       [0.43565873, 0.56434127],\n",
       "       [0.99410008, 0.00589992],\n",
       "       [0.78213321, 0.21786679],\n",
       "       [0.52069053, 0.47930947],\n",
       "       [0.09503115, 0.90496885],\n",
       "       [0.48969172, 0.51030828],\n",
       "       [0.30565371, 0.69434629],\n",
       "       [0.05557686, 0.94442314],\n",
       "       [0.01351993, 0.98648007],\n",
       "       [0.46460338, 0.53539662],\n",
       "       [0.22819728, 0.77180272],\n",
       "       [0.97371873, 0.02628127],\n",
       "       [0.97475989, 0.02524011],\n",
       "       [0.81294497, 0.18705503],\n",
       "       [0.0108403 , 0.9891597 ],\n",
       "       [0.97691184, 0.02308816],\n",
       "       [0.1134578 , 0.8865422 ],\n",
       "       [0.0041647 , 0.9958353 ],\n",
       "       [0.29470666, 0.70529334],\n",
       "       [0.88952424, 0.11047576],\n",
       "       [0.11198929, 0.88801071]])"
      ]
     },
     "execution_count": 22,
     "metadata": {},
     "output_type": "execute_result"
    }
   ],
   "source": [
    "lr_probs"
   ]
  },
  {
   "cell_type": "code",
   "execution_count": 23,
   "metadata": {},
   "outputs": [
    {
     "name": "stdout",
     "output_type": "stream",
     "text": [
      "(242, 30) (242, 2)\n"
     ]
    }
   ],
   "source": [
    "#  CLASS    0          1\n",
    "\n",
    "print(X_train.shape,lr_probs.shape)"
   ]
  },
  {
   "cell_type": "markdown",
   "metadata": {},
   "source": [
    "As expected predict_proba gives: <br>\n",
    "At Current Threshold value, the probability of each sample falling into +ive Class and probability of each <br>\n",
    "sample falling into the -ive class (order is as order in self.classes_) <br> \n",
    "As threshold changes, these probabilities will change"
   ]
  },
  {
   "cell_type": "code",
   "execution_count": 27,
   "metadata": {},
   "outputs": [
    {
     "data": {
      "text/plain": [
       "array([[ 87,  18],\n",
       "       [ 10, 127]], dtype=int64)"
      ]
     },
     "execution_count": 27,
     "metadata": {},
     "output_type": "execute_result"
    }
   ],
   "source": [
    "confusion_matrix(y_train,y_train_predLog)"
   ]
  },
  {
   "cell_type": "code",
   "execution_count": 30,
   "metadata": {},
   "outputs": [],
   "source": [
    "# TPR, FPR, THRESHOLD\n",
    "\n",
    "tpr,fpr, threshold = roc_curve(y_train,lr_probs[:,1])       #y_true and probability estimates of the positive class\n",
    "\n",
    "#Note: this implementation is restricted to the binary classification task."
   ]
  },
  {
   "cell_type": "code",
   "execution_count": 34,
   "metadata": {},
   "outputs": [
    {
     "data": {
      "text/plain": [
       "(50,)"
      ]
     },
     "execution_count": 34,
     "metadata": {},
     "output_type": "execute_result"
    }
   ],
   "source": [
    "tpr.shape"
   ]
  },
  {
   "cell_type": "code",
   "execution_count": 37,
   "metadata": {},
   "outputs": [
    {
     "data": {
      "text/plain": [
       "50"
      ]
     },
     "execution_count": 37,
     "metadata": {},
     "output_type": "execute_result"
    }
   ],
   "source": [
    "len(fpr)"
   ]
  },
  {
   "cell_type": "code",
   "execution_count": 36,
   "metadata": {},
   "outputs": [
    {
     "data": {
      "text/plain": [
       "(50,)"
      ]
     },
     "execution_count": 36,
     "metadata": {},
     "output_type": "execute_result"
    }
   ],
   "source": [
    "threshold.shape"
   ]
  },
  {
   "cell_type": "code",
   "execution_count": 38,
   "metadata": {},
   "outputs": [
    {
     "data": {
      "text/plain": [
       "array([0.        , 0.        , 0.        , 0.        , 0.        ,\n",
       "       0.00952381, 0.00952381, 0.01904762, 0.01904762, 0.02857143,\n",
       "       0.02857143, 0.03809524, 0.03809524, 0.04761905, 0.04761905,\n",
       "       0.05714286, 0.05714286, 0.07619048, 0.07619048, 0.08571429,\n",
       "       0.08571429, 0.0952381 , 0.0952381 , 0.11428571, 0.11428571,\n",
       "       0.12380952, 0.12380952, 0.13333333, 0.13333333, 0.14285714,\n",
       "       0.14285714, 0.16190476, 0.16190476, 0.17142857, 0.17142857,\n",
       "       0.18095238, 0.18095238, 0.26666667, 0.26666667, 0.28571429,\n",
       "       0.28571429, 0.33333333, 0.33333333, 0.39047619, 0.39047619,\n",
       "       0.51428571, 0.51428571, 0.80952381, 0.80952381, 1.        ])"
      ]
     },
     "execution_count": 38,
     "metadata": {},
     "output_type": "execute_result"
    }
   ],
   "source": [
    "tpr"
   ]
  },
  {
   "cell_type": "code",
   "execution_count": 42,
   "metadata": {},
   "outputs": [
    {
     "data": {
      "text/plain": [
       "[<matplotlib.lines.Line2D at 0x2376b364940>]"
      ]
     },
     "execution_count": 42,
     "metadata": {},
     "output_type": "execute_result"
    },
    {
     "data": {
      "image/png": "[encoded data removed]",
      "text/plain": [
       "<Figure size 432x288 with 1 Axes>"
      ]
     },
     "metadata": {
      "needs_background": "light"
     },
     "output_type": "display_data"
    }
   ],
   "source": [
    "#Plot the ROC curve\n",
    "\n",
    "plt.plot([0,1],[0,1], linestyle = '--')\n",
    "plt.plot(tpr,fpr)"
   ]
  },
  {
   "cell_type": "code",
   "execution_count": 53,
   "metadata": {},
   "outputs": [
    {
     "data": {
      "text/plain": [
       "0.9377824122349669"
      ]
     },
     "execution_count": 53,
     "metadata": {},
     "output_type": "execute_result"
    }
   ],
   "source": [
    "#ROC AUC\n",
    "roc_auc_score(y_train, lr_probs[:,1])"
   ]
  },
  {
   "cell_type": "code",
   "execution_count": null,
   "metadata": {},
   "outputs": [],
   "source": []
  },
  {
   "cell_type": "code",
   "execution_count": 56,
   "metadata": {},
   "outputs": [
    {
     "name": "stdout",
     "output_type": "stream",
     "text": [
      "Precision Score: 0.8758620689655172\n",
      "Recall Score: 0.927007299270073\n"
     ]
    }
   ],
   "source": [
    "#================ Now Checking for Precision and Recall\n",
    "\n",
    "print(\"Precision Score: {}\" .format( precision_score(y_train, y_train_predLog, average ='binary',pos_label=1))) #pos_label will be label of +ive class\n",
    "\n",
    "print(\"Recall Score: {}\" .format(recall_score(y_train, y_train_predLog, average = 'binary', pos_label=1)))  #pos_label will be label of +ive class\n",
    "\n",
    "#if average = none and no pos_label then scores for both classes are returned.\n",
    "# If the data are multiclass or multilabel, pos_label will be ignored;\n"
   ]
  },
  {
   "cell_type": "code",
   "execution_count": 57,
   "metadata": {},
   "outputs": [],
   "source": [
    "# PR Curve\n",
    "\n",
    "precisions, recalls, thresholds = precision_recall_curve(y_train,lr_probs[:,1])\n",
    "\n",
    "#this implementation is restricted to the binary classification task."
   ]
  },
  {
   "cell_type": "code",
   "execution_count": 59,
   "metadata": {},
   "outputs": [
    {
     "data": {
      "text/plain": [
       "(222,)"
      ]
     },
     "execution_count": 59,
     "metadata": {},
     "output_type": "execute_result"
    }
   ],
   "source": [
    "precisions.shape"
   ]
  },
  {
   "cell_type": "code",
   "execution_count": 60,
   "metadata": {},
   "outputs": [
    {
     "data": {
      "text/plain": [
       "(222,)"
      ]
     },
     "execution_count": 60,
     "metadata": {},
     "output_type": "execute_result"
    }
   ],
   "source": [
    "recalls.shape"
   ]
  },
  {
   "cell_type": "code",
   "execution_count": 61,
   "metadata": {},
   "outputs": [
    {
     "data": {
      "text/plain": [
       "(221,)"
      ]
     },
     "execution_count": 61,
     "metadata": {},
     "output_type": "execute_result"
    }
   ],
   "source": [
    "thresholds.shape"
   ]
  },
  {
   "cell_type": "code",
   "execution_count": 63,
   "metadata": {},
   "outputs": [
    {
     "data": {
      "text/plain": [
       "(242,)"
      ]
     },
     "execution_count": 63,
     "metadata": {},
     "output_type": "execute_result"
    }
   ],
   "source": [
    "y_train.shape"
   ]
  },
  {
   "cell_type": "code",
   "execution_count": 64,
   "metadata": {},
   "outputs": [
    {
     "data": {
      "text/plain": [
       "[<matplotlib.lines.Line2D at 0x2376b7c87b8>]"
      ]
     },
     "execution_count": 64,
     "metadata": {},
     "output_type": "execute_result"
    },
    {
     "data": {
      "image/png": "[encoded data removed]",
      "text/plain": [
       "<Figure size 432x288 with 1 Axes>"
      ]
     },
     "metadata": {
      "needs_background": "light"
     },
     "output_type": "display_data"
    }
   ],
   "source": [
    "plt.plot(precisions,recalls)"
   ]
  },
  {
   "cell_type": "code",
   "execution_count": 75,
   "metadata": {},
   "outputs": [],
   "source": [
    "#==== y scores, ROC, PR using decision function ===="
   ]
  },
  {
   "cell_type": "code",
   "execution_count": 109,
   "metadata": {},
   "outputs": [],
   "source": [
    "y_scores_decfun = logreg_obj.decision_function(X_train)\n",
    "\n",
    "#Decision function Predicts confidence scores for samples.\n",
    "# The confidence score for a sample is the signed distance of that sample to the hyperplane.\n",
    "\n",
    "#Confidence Score is different from threshold probabilities"
   ]
  },
  {
   "cell_type": "code",
   "execution_count": 79,
   "metadata": {},
   "outputs": [
    {
     "data": {
      "text/plain": [
       "(242,)"
      ]
     },
     "execution_count": 79,
     "metadata": {},
     "output_type": "execute_result"
    }
   ],
   "source": [
    "y_scores_decfun.shape"
   ]
  },
  {
   "cell_type": "code",
   "execution_count": 110,
   "metadata": {
    "scrolled": true
   },
   "outputs": [
    {
     "data": {
      "text/plain": [
       "array([-2.69428328,  2.10782553,  5.03780464,  1.38248868,  0.79817796,\n",
       "       -3.67417568, -2.51383956, -2.34606298,  3.25492103, -5.41924004,\n",
       "        1.65812806,  5.30211567,  2.96976979,  4.44333953, -4.7884967 ,\n",
       "        1.24331209,  4.17014961,  1.61903747, -1.30223908,  1.01808357,\n",
       "        1.14952677, -5.06185588,  4.77509141, -1.33333378,  3.44573554,\n",
       "       -0.85789138, -4.53126845,  2.85588995,  2.99781568, -2.93525713,\n",
       "        2.90181106,  3.60832116,  3.21880638,  0.42460207, -1.75066695,\n",
       "        2.13710767,  3.4746821 ,  0.41807049,  0.07703481,  5.85548471,\n",
       "       -6.39765897, -4.41356749, -1.30189194, -3.45570992,  3.85878085,\n",
       "       -1.06031504,  1.94654761,  4.1820807 ,  1.78285713,  0.86576957,\n",
       "       -2.20160031, -0.20554494,  0.02991947,  1.15245453,  5.89555143,\n",
       "       -2.19271656,  2.73025874,  0.32620576, -5.17424553, -0.79482753,\n",
       "        3.32807595, -3.27236788, -0.64923467,  5.63702014, -2.34938071,\n",
       "        5.35352705, -1.9741834 ,  1.76152239, -3.74757344,  0.33093642,\n",
       "        1.90209437,  0.34721373, -3.44157977, -1.19064413,  4.8425706 ,\n",
       "       -4.95372264,  3.96380521,  0.68495913,  1.14540107,  1.91505758,\n",
       "       -6.60437197, -3.59632897,  3.30270457, -2.18470108, -3.94365229,\n",
       "        4.54870021,  2.3675979 ,  3.38912188,  0.8385977 , -1.27087213,\n",
       "       -1.20615708, -3.33668174,  1.42563671,  1.46133315,  4.22141103,\n",
       "       -4.86154551,  5.80117459,  2.17265738,  1.16908422,  2.2990023 ,\n",
       "       -5.11348735,  0.20062517,  1.07450405,  2.59533795,  3.07072472,\n",
       "        0.82083936,  1.2573216 , -3.60887964,  3.27795391,  2.09446775,\n",
       "        2.99404028,  5.16956785, -4.79679817, -5.52267703,  1.80694637,\n",
       "        4.94186872,  0.95682938,  1.07379123, -5.17745656, -0.78001194,\n",
       "        2.83132408,  3.63840417,  0.1918485 ,  2.24015543,  5.21373647,\n",
       "        3.80835055, -1.18386736,  1.89249194,  2.08356387, -3.30503308,\n",
       "       -4.52559284,  0.64997021, -0.38542742,  1.96902335,  0.03134178,\n",
       "        0.28504882,  1.18472502,  3.91393787, -3.09041388,  2.00296277,\n",
       "        4.88481969, -0.26302954, -3.93666057,  1.81376444,  3.04781723,\n",
       "        1.72638434,  3.37679305, -0.13563854,  4.12371176,  2.88123535,\n",
       "        5.30211567, -3.11981817,  5.07817928, -1.10746096,  0.80550064,\n",
       "       -0.69835926,  5.27288754, -2.37993848, -5.96215303,  0.83652285,\n",
       "        4.08041482,  2.20249543, -4.24718233,  0.28485572,  1.81432807,\n",
       "        1.22172781,  2.4375359 , -0.94024762,  1.41237886, -0.66011873,\n",
       "       -3.3897712 ,  3.56678979, -2.9308102 ,  4.87723721,  0.23932772,\n",
       "        0.92399263,  5.11940874,  1.66901866, -5.56842269, -3.1551494 ,\n",
       "       -0.40907285, -1.65415279, -1.30441773, -1.05807983, -2.60119425,\n",
       "       -0.04887107, -3.42700971, -1.49444218, -3.43210385,  0.94429565,\n",
       "        2.62387164, -6.31171786, -2.99587686, -0.92385728, -1.40867693,\n",
       "        2.11410724, -4.50355551,  2.9133163 ,  0.21011886,  3.18494786,\n",
       "        2.61686671, -0.17423019,  1.96482001,  2.90649548, -1.6539838 ,\n",
       "       -3.57273942,  0.5372919 , -1.83924654, -0.66513713, -2.16180424,\n",
       "        1.0789816 ,  3.99560237,  3.91361838, -1.16383252, -1.37340435,\n",
       "       -0.21361998, -6.1411099 ,  3.48715493,  3.27291659,  0.40382541,\n",
       "        1.99401582,  0.25879996, -5.12689905, -1.27814126, -0.08280941,\n",
       "        2.25369584,  0.04123897,  0.820518  ,  2.8328073 ,  4.28997787,\n",
       "        0.14182372,  1.21851846, -3.61226597, -3.6537569 , -1.46926058,\n",
       "        4.51358553, -3.74507631,  2.05589781,  5.47693672,  0.87263333,\n",
       "       -2.08589061,  2.07058059])"
      ]
     },
     "execution_count": 110,
     "metadata": {},
     "output_type": "execute_result"
    }
   ],
   "source": [
    "y_scores_decfun"
   ]
  },
  {
   "cell_type": "code",
   "execution_count": 82,
   "metadata": {},
   "outputs": [],
   "source": [
    "#====== ROC using decision function ======\n",
    "\n",
    "fpr_2,tpr_2,threshold_2 = roc_curve(y_train,y_scores_decfun)"
   ]
  },
  {
   "cell_type": "code",
   "execution_count": 85,
   "metadata": {},
   "outputs": [
    {
     "name": "stdout",
     "output_type": "stream",
     "text": [
      "50\n",
      "50\n"
     ]
    }
   ],
   "source": [
    "print(len(fpr_2))\n",
    "print(len(threshold_2))"
   ]
  },
  {
   "cell_type": "code",
   "execution_count": 97,
   "metadata": {},
   "outputs": [
    {
     "data": {
      "text/plain": [
       "[<matplotlib.lines.Line2D at 0x2376ce2d1d0>]"
      ]
     },
     "execution_count": 97,
     "metadata": {},
     "output_type": "execute_result"
    },
    {
     "data": {
      "image/png": "[encoded data removed]",
      "text/plain": [
       "<Figure size 432x288 with 1 Axes>"
      ]
     },
     "metadata": {
      "needs_background": "light"
     },
     "output_type": "display_data"
    }
   ],
   "source": [
    "plt.plot(fpr_2,tpr_2)\n",
    "plt.plot([0,1],[0,1])"
   ]
  },
  {
   "cell_type": "code",
   "execution_count": 98,
   "metadata": {},
   "outputs": [],
   "source": [
    "#Compare Decision function vs Proba Predict "
   ]
  },
  {
   "cell_type": "code",
   "execution_count": 103,
   "metadata": {},
   "outputs": [
    {
     "data": {
      "text/plain": [
       "0.9377824122349669"
      ]
     },
     "execution_count": 103,
     "metadata": {},
     "output_type": "execute_result"
    }
   ],
   "source": [
    "roc_auc_score(y_train,y_scores_decfun)           \n",
    "\n",
    "#We see this AUC score with decsion function is same as AUC using predict_proba"
   ]
  },
  {
   "cell_type": "code",
   "execution_count": 120,
   "metadata": {},
   "outputs": [
    {
     "data": {
      "text/plain": [
       "array([ 6.89555143,  5.89555143,  5.35352705,  5.30211567,  4.12371176,\n",
       "        4.08041482,  3.27291659,  3.25492103,  3.07072472,  3.04781723,\n",
       "        2.83132408,  2.73025874,  2.20249543,  2.17265738,  1.16908422,\n",
       "        1.15245453,  1.07450405,  1.01808357,  0.83652285,  0.82083936,\n",
       "        0.820518  ,  0.80550064,  0.64997021,  0.42460207,  0.40382541,\n",
       "        0.34721373,  0.33093642,  0.32620576,  0.23932772,  0.21011886,\n",
       "        0.20062517,  0.14182372,  0.04123897,  0.03134178, -0.08280941,\n",
       "       -0.13563854, -0.17423019, -0.69835926, -0.79482753, -0.92385728,\n",
       "       -0.94024762, -1.18386736, -1.19064413, -1.30441773, -1.33333378,\n",
       "       -2.19271656, -2.20160031, -4.24718233, -4.41356749, -6.60437197])"
      ]
     },
     "execution_count": 120,
     "metadata": {},
     "output_type": "execute_result"
    }
   ],
   "source": [
    "threshold_2\n",
    "\n",
    "#Notice these are not probabilities. So not actual decision boundary threshold values.\n",
    "# So wont match with threshold values based of predict_probab\n",
    "\n",
    "#Also tpr and fpr values wont match.\n",
    "\n",
    "#But both help with calculating the ROC or the PR curve. Since the roc_curve function or prcurve fn\n",
    "#accepts etiher the class probability or the confidence score"
   ]
  },
  {
   "cell_type": "code",
   "execution_count": 119,
   "metadata": {},
   "outputs": [
    {
     "data": {
      "text/plain": [
       "array([1.99725589e+00, 9.97255892e-01, 9.95290848e-01, 9.95043643e-01,\n",
       "       9.84073430e-01, 9.83380425e-01, 9.63487913e-01, 9.62849541e-01,\n",
       "       9.55668886e-01, 9.54688196e-01, 9.44345233e-01, 9.38788707e-01,\n",
       "       9.00473378e-01, 8.97767122e-01, 7.62979444e-01, 7.59958960e-01,\n",
       "       7.45452517e-01, 7.34599133e-01, 6.97732383e-01, 6.94414484e-01,\n",
       "       6.94346285e-01, 6.91149889e-01, 6.57003751e-01, 6.04583958e-01,\n",
       "       5.99606407e-01, 5.85941753e-01, 5.81987205e-01, 5.80835894e-01,\n",
       "       5.59547971e-01, 5.52337298e-01, 5.49988731e-01, 5.35396620e-01,\n",
       "       5.10308281e-01, 5.07834803e-01, 4.79309470e-01, 4.66142258e-01,\n",
       "       4.56552304e-01, 3.32176101e-01, 3.11133045e-01, 2.84172598e-01,\n",
       "       2.80850328e-01, 2.34357547e-01, 2.33143753e-01, 2.13422460e-01,\n",
       "       2.08608454e-01, 1.00406454e-01, 9.96068731e-02, 1.41027499e-02,\n",
       "       1.19669497e-02, 1.35260152e-03])"
      ]
     },
     "execution_count": 119,
     "metadata": {},
     "output_type": "execute_result"
    }
   ],
   "source": [
    "threshold"
   ]
  },
  {
   "cell_type": "code",
   "execution_count": null,
   "metadata": {},
   "outputs": [],
   "source": []
  }
 ],
 "metadata": {
  "kernelspec": {
   "display_name": "Python 3",
   "language": "python",
   "name": "python3"
  },
  "language_info": {
   "codemirror_mode": {
    "name": "ipython",
    "version": 3
   },
   "file_extension": ".py",
   "mimetype": "text/x-python",
   "name": "python",
   "nbconvert_exporter": "python",
   "pygments_lexer": "ipython3",
   "version": "3.7.3"
  }
 },
 "nbformat": 4,
 "nbformat_minor": 2
}
